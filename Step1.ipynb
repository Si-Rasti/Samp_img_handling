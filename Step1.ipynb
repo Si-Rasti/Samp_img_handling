{
  "nbformat": 4,
  "nbformat_minor": 0,
  "metadata": {
    "colab": {
      "provenance": [],
      "include_colab_link": true
    },
    "kernelspec": {
      "name": "python3",
      "display_name": "Python 3"
    },
    "language_info": {
      "name": "python"
    }
  },
  "cells": [
    {
      "cell_type": "markdown",
      "metadata": {
        "id": "view-in-github",
        "colab_type": "text"
      },
      "source": [
        "<a href=\"https://colab.research.google.com/github/Si-Rasti/Samp_img_handling/blob/main/Step1.ipynb\" target=\"_parent\"><img src=\"https://colab.research.google.com/assets/colab-badge.svg\" alt=\"Open In Colab\"/></a>"
      ]
    },
    {
      "cell_type": "code",
      "execution_count": null,
      "metadata": {
        "id": "zolYeq2sCjTW"
      },
      "outputs": [],
      "source": [
        "#import necessary libraries\n",
        "import csv\n",
        "import os\n",
        "import shutil"
      ]
    },
    {
      "cell_type": "code",
      "source": [
        "# mount drive\n",
        "from google.colab import drive\n",
        "drive.mount('/content/drive')"
      ],
      "metadata": {
        "id": "R4224OYI4A1P"
      },
      "execution_count": null,
      "outputs": []
    },
    {
      "cell_type": "code",
      "source": [
        "# Path to directory containing the images\n",
        "image_dir = \"/content/drive/MyDrive/ISIC_2019_Training_Input\"\n",
        "\n",
        "# Path to the harbored CSV file (containing images' names and their labels)\n",
        "csv_file = \"/content/drive/MyDrive/archive.zip (Unzipped Files)/ISIC_2019_Training_GroundTruth.csv\"\n"
      ],
      "metadata": {
        "id": "14NkrH3LIQJV"
      },
      "execution_count": null,
      "outputs": []
    },
    {
      "cell_type": "code",
      "source": [
        "# Creat a dictionary to store the destination folder for each label (lesion class)\n",
        "folder_map = {\n",
        "    \"condition_1\": \"/content/drive/MyDrive/ISIC_2019_Training_Input/MEL\",\n",
        "    \"condition_2\": \"/content/drive/MyDrive/ISIC_2019_Training_Input/NV\",\n",
        "    \"condition_3\": \"/content/drive/MyDrive/ISIC_2019_Training_Input/BCC\",\n",
        "    \"condition_4\": \"/content/drive/MyDrive/ISIC_2019_Training_Input/AK\",\n",
        "    \"condition_5\": \"/content/drive/MyDrive/ISIC_2019_Training_Input/BKL\",\n",
        "    \"condition_6\": \"/content/drive/MyDrive/ISIC_2019_Training_Input/DF\",\n",
        "    \"condition_7\": \"/content/drive/MyDrive/ISIC_2019_Training_Input/VASC\",\n",
        "    \"condition_8\": \"/content/drive/MyDrive/ISIC_2019_Training_Input/SCC\",\n",
        "    \"condition_9\": \"/content/drive/MyDrive/ISIC_2019_Training_Input/UNK\",\n",
        "}"
      ],
      "metadata": {
        "id": "hSYOU8I1KJPO"
      },
      "execution_count": null,
      "outputs": []
    },
    {
      "cell_type": "code",
      "source": [
        "# Open the CSV file and read the image names and lesion types\n",
        "with open(csv_file, \"r\") as f:\n",
        "    reader = csv.reader(f)\n",
        "    # Skip the header row\n",
        "    next(reader)\n",
        "    for row in reader:\n",
        "        image_name = row[0] + \".jpg\"\n",
        "        conditions = row[1:]\n",
        "        dest_path = None\n",
        "\n",
        "        #check if image exists in the folder\n",
        "        if not os.path.exists (os.path.join (image_dir, image_name)):\n",
        "          continue\n",
        "        # Check if the image satisfies each condition\n",
        "        for i, condition in enumerate(conditions):\n",
        "            if condition == \"1.0\":\n",
        "                condition_name = f\"condition_{i+1}\"\n",
        "                dest_path = folder_map.get(condition_name)\n",
        "                if dest_path is None:\n",
        "                    break\n",
        "        # Move the image to the destination folder if all conditions are satisfied\n",
        "        if dest_path is not None:\n",
        "            source_path = os.path.join(image_dir, image_name)\n",
        "            if not os.path.exists(dest_path):\n",
        "                os.makedirs(dest_path)\n",
        "            shutil.move(source_path, os.path.join(dest_path, image_name))"
      ],
      "metadata": {
        "id": "EMSe03e4LaeF"
      },
      "execution_count": null,
      "outputs": []
    }
  ]
}
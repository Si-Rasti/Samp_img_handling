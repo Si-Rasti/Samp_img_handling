{
  "nbformat": 4,
  "nbformat_minor": 0,
  "metadata": {
    "colab": {
      "provenance": [],
      "gpuType": "T4",
      "mount_file_id": "12N1E6-Yi_trUIbeR2zZdERtnWnVa3K9q",
      "authorship_tag": "ABX9TyOig16klYH0o0SqU03qfD3v",
      "include_colab_link": true
    },
    "kernelspec": {
      "name": "python3",
      "display_name": "Python 3"
    },
    "language_info": {
      "name": "python"
    },
    "accelerator": "TPU"
  },
  "cells": [
    {
      "cell_type": "markdown",
      "metadata": {
        "id": "view-in-github",
        "colab_type": "text"
      },
      "source": [
        "<a href=\"https://colab.research.google.com/github/Si-Rasti/Samp_img_handling/blob/main/Step2.ipynb\" target=\"_parent\"><img src=\"https://colab.research.google.com/assets/colab-badge.svg\" alt=\"Open In Colab\"/></a>"
      ]
    },
    {
      "cell_type": "code",
      "source": [
        "!pip install opencv-python"
      ],
      "metadata": {
        "id": "9bz_8k84kNzc"
      },
      "execution_count": null,
      "outputs": []
    },
    {
      "cell_type": "code",
      "execution_count": null,
      "metadata": {
        "id": "A3hGDCSgfKdW"
      },
      "outputs": [],
      "source": [
        "# import necessary libraries\n",
        "import cv2\n",
        "from google.colab import drive\n",
        "import os\n",
        "import random\n",
        "import shutil\n",
        "# mount drive\n",
        "drive.mount('/content/drive')"
      ]
    },
    {
      "cell_type": "code",
      "source": [
        "def has_black_frame(image_path, threshold=10):\n",
        "    # threshold may be altered to finetune sensitivity\n",
        "    # Load the image\n",
        "    image = cv2.imread(image_path)\n",
        "\n",
        "    # Convert the image to grayscale\n",
        "    gray_image = cv2.cvtColor(image, cv2.COLOR_BGR2GRAY)\n",
        "\n",
        "    # define corner pixels\n",
        "    #corners may be defined as any ratio of the height and weight\n",
        "    height, width = gray_image.shape\n",
        "    top_left = gray_image[0:int(height * 0.01), 0:int(width * 0.01)]\n",
        "    bottom_left = gray_image[int(height * 0.99):, 0:int(width * 0.01)]\n",
        "    top_right = gray_image[0:int(height * 0.01), int(width * 0.99):]\n",
        "    bottom_right = gray_image[int(height * 0.99):, int(width * 0.99):]\n",
        "\n",
        "    # calculate average pixel intensity in the margines\n",
        "    avg_tl = cv2.mean(top_left)[0]\n",
        "    avg_bl = cv2.mean(bottom_left)[0]\n",
        "    avg_tr = cv2.mean(top_right)[0]\n",
        "    avg_br = cv2.mean(bottom_right)[0]\n",
        "\n",
        "    # Check if the average pixel value in each corner is below the threshold\n",
        "    return avg_tl < threshold or avg_bl < threshold or avg_tr < threshold or avg_br < threshold\n",
        "\n"
      ],
      "metadata": {
        "id": "HIoyDIiAkitT"
      },
      "execution_count": null,
      "outputs": []
    },
    {
      "cell_type": "code",
      "source": [
        "def copy_random_images_without_black_frame(src_folder, dest_folder, num_images):\n",
        "    # Get a list of all image filenames in the source folder\n",
        "    image_files = os.listdir(src_folder)\n",
        "\n",
        "    # Filter out images with any black corner\n",
        "    valid_images = [image for image in image_files if not has_black_frame(os.path.join(src_folder, image))]\n",
        "\n",
        "    # Randomly select 'num_images' images from the list of valid images\n",
        "    selected_images = random.sample(valid_images, num_images)\n",
        "    if not os.path.exists(dest_folder):\n",
        "        os.makedirs(dest_folder)\n",
        "\n",
        "    # Copy the eligible images to the destination\n",
        "    for image in selected_images:\n",
        "        src_path = os.path.join(src_folder, image)\n",
        "        dest_path = os.path.join(dest_folder, image)\n",
        "        shutil.copy(src_path, dest_path)\n"
      ],
      "metadata": {
        "id": "IkoYV6mWk37U"
      },
      "execution_count": null,
      "outputs": []
    },
    {
      "cell_type": "code",
      "source": [
        "def test_allocate (origin_folder, insertion_folder, num):\n",
        "    # Get a list of all image filenames in the source folder\n",
        "    prim_image_files = os.listdir(origin_folder)\n",
        "\n",
        "\n",
        "    # Randomly select 'num' images from the primarily selected images\n",
        "    test_images = random.sample(prim_image_files, num)\n",
        "    if not os.path.exists(insertion_folder):\n",
        "        os.makedirs(insertion_folder)\n",
        "\n",
        "    # Move the eligible images to the test folder\n",
        "    for sample in test_images:\n",
        "        origin_path = os.path.join(origin_folder, sample)\n",
        "        insertion_path = os.path.join(insertion_folder, sample)\n",
        "        shutil.move(origin_path, insertion_path)\n"
      ],
      "metadata": {
        "id": "gY4GnNp9r6N6"
      },
      "execution_count": null,
      "outputs": []
    },
    {
      "cell_type": "code",
      "source": [
        "# Allocate a folder to each of the 8 dermatologic lesion classes defined in the original CSV file\n",
        "folder_names = ['AK', 'BCC', 'BKL', 'DF', 'MEL', 'NV', 'SCC', 'VASC']\n",
        "\n",
        "# Number of images to select for train and test\n",
        "# Numbers may be modified based on the needed sample size\n",
        "train_images_per_folder = 125\n",
        "test_images_num = 25\n"
      ],
      "metadata": {
        "id": "CqiYJhNtk_0o"
      },
      "execution_count": null,
      "outputs": []
    },
    {
      "cell_type": "code",
      "source": [
        "# Loop for each folder and copy to train and move to test folders\n",
        "for folder_name in folder_names:\n",
        "    src_folder = os.path.join('/content/drive/MyDrive/ISIC_2019_Training_Input', folder_name)\n",
        "    dest_folder = os.path.join('/content/drive/MyDrive/ISIC_2019_Training_Input', folder_name)\n",
        "    test_dest_folder = os.path.join(dest_folder, 'test')\n",
        "\n",
        "    copy_random_images_without_black_frame(src_folder, dest_folder, train_images_per_folder)\n",
        "    test_allocate(dest_folder, test_dest_folder, test_images_num)\n"
      ],
      "metadata": {
        "id": "SjkK-v9afXHW"
      },
      "execution_count": null,
      "outputs": []
    }
  ]
}
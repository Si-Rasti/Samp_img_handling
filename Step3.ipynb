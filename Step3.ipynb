{
  "nbformat": 4,
  "nbformat_minor": 0,
  "metadata": {
    "colab": {
      "provenance": [],
      "mount_file_id": "19p53WKZOrwk-h5YW4NCls2fueT04jVeq",
      "authorship_tag": "ABX9TyPBsB0VugklQw9p4Yk+c0Y4",
      "include_colab_link": true
    },
    "kernelspec": {
      "name": "python3",
      "display_name": "Python 3"
    },
    "language_info": {
      "name": "python"
    }
  },
  "cells": [
    {
      "cell_type": "markdown",
      "metadata": {
        "id": "view-in-github",
        "colab_type": "text"
      },
      "source": [
        "<a href=\"https://colab.research.google.com/github/Si-Rasti/Samp_img_handling/blob/main/Step3.ipynb\" target=\"_parent\"><img src=\"https://colab.research.google.com/assets/colab-badge.svg\" alt=\"Open In Colab\"/></a>"
      ]
    },
    {
      "cell_type": "code",
      "execution_count": null,
      "metadata": {
        "id": "vxZ0sww7HY0d"
      },
      "outputs": [],
      "source": [
        "# import necessary libraries\n",
        "import cv2\n",
        "import numpy as np\n",
        "import os\n",
        "from google.colab import drive\n",
        "drive.mount('/content/drive')"
      ]
    },
    {
      "cell_type": "code",
      "source": [
        "def resize_image(image_path, output_path):\n",
        "    # Load the image using OpenCV\n",
        "    image = cv2.imread(image_path)\n",
        "\n",
        "    # Resize the image to 512x512 pixels\n",
        "    resized_image = cv2.resize(image, (512, 512))\n",
        "\n",
        "    # Save the resized image to the output path\n",
        "    cv2.imwrite(output_path, (resized_image).astype(np.uint8))"
      ],
      "metadata": {
        "id": "X1yIUJI6H4QI"
      },
      "execution_count": null,
      "outputs": []
    },
    {
      "cell_type": "code",
      "source": [
        "# Paths\n",
        "input_folder = '/content/drive/MyDrive/randomsample'\n",
        "output_folder = '/content/drive/MyDrive/final_sample'\n",
        "\n",
        "if not os.path.exists(output_folder):\n",
        "    os.makedirs(output_folder)"
      ],
      "metadata": {
        "id": "IajawRBXIUUs"
      },
      "execution_count": null,
      "outputs": []
    },
    {
      "cell_type": "code",
      "source": [
        "# Loop through each image in the input folder\n",
        "for folder_name in os.listdir(input_folder):\n",
        "    input_subfolder = os.path.join(input_folder, folder_name)\n",
        "    output_subfolder = os.path.join(output_folder, folder_name)\n",
        "\n",
        "    # Create subfolder in output folder\n",
        "    if not os.path.exists(output_subfolder):\n",
        "        os.makedirs(output_subfolder)\n",
        "\n",
        "    for image_name in os.listdir(input_subfolder):\n",
        "      # Select image-only files\n",
        "      if image_name.lower().endswith('.jpg'):\n",
        "        input_path = os.path.join(input_subfolder, image_name)\n",
        "        output_path = os.path.join(output_subfolder, image_name)\n",
        "\n",
        "        # resize the image\n",
        "        resize_image(input_path, output_path)\n",
        "print(\"Resize completed.\")"
      ],
      "metadata": {
        "id": "wlVxLCCWIkhf"
      },
      "execution_count": null,
      "outputs": []
    }
  ]
}